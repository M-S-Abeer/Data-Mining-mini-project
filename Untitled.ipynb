{
 "cells": [
  {
   "cell_type": "code",
   "execution_count": 4,
   "metadata": {},
   "outputs": [],
   "source": [
    "import pandas as pd"
   ]
  },
  {
   "cell_type": "code",
   "execution_count": 23,
   "metadata": {},
   "outputs": [
    {
     "name": "stdout",
     "output_type": "stream",
     "text": [
      " Volume in drive C has no label.\n",
      " Volume Serial Number is 98EA-D711\n",
      "\n",
      " Directory of c:\\Users\\Mahmud Sajjad Abeer\\Dropbox\\projects\\Data Mining Paper\n",
      "\n",
      "02-Aug-19  02:45    <DIR>          .\n",
      "02-Aug-19  02:45    <DIR>          ..\n",
      "02-Aug-19  02:22    <DIR>          .ipynb_checkpoints\n",
      "02-Aug-19  02:45           369,713 drug_consumption - Copy.csv\n",
      "17-Jun-19  03:18           346,695 drug_consumption.data\n",
      "02-Aug-19  02:12                79 test.py\n",
      "02-Aug-19  02:30            52,028 Untitled.ipynb\n",
      "               4 File(s)        768,515 bytes\n",
      "               3 Dir(s)  37,880,205,312 bytes free\n"
     ]
    }
   ],
   "source": [
    "ls"
   ]
  },
  {
   "cell_type": "code",
   "execution_count": 5,
   "metadata": {},
   "outputs": [],
   "source": [
    "lol = pd.read_csv('drug_data.csv')"
   ]
  },
  {
   "cell_type": "code",
   "execution_count": 6,
   "metadata": {},
   "outputs": [],
   "source": [
    "selected_columns = [\"Cannabis\", \"Coke\", \"Heroin\", \"Nicotine\"]"
   ]
  },
  {
   "cell_type": "code",
   "execution_count": 7,
   "metadata": {},
   "outputs": [
    {
     "name": "stdout",
     "output_type": "stream",
     "text": [
      "        ID     Age  Gender                                          Education  \\\n",
      "0        1   35-44  Female                  Professional certificate/ diploma   \n",
      "1        2   25-34    Male                                   Doctorate degree   \n",
      "2        3   35-44    Male                  Professional certificate/ diploma   \n",
      "3        4   18-24  Female                                     Masters degree   \n",
      "4        5   35-44  Female                                   Doctorate degree   \n",
      "5        6  65-100  Female                            Left school at 18 years   \n",
      "6        7   45-54    Male                                     Masters degree   \n",
      "7        8   35-44    Male                            Left school at 16 years   \n",
      "8        9   35-44  Female                  Professional certificate/ diploma   \n",
      "9       10   55-64    Male                                     Masters degree   \n",
      "10      11   25-34  Female                                  University degree   \n",
      "11      12   45-54    Male  Some college or university, no certificate or ...   \n",
      "12      13   55-64  Female                                  University degree   \n",
      "13      14   55-64  Female                  Professional certificate/ diploma   \n",
      "14      15   55-64  Female                  Professional certificate/ diploma   \n",
      "15      16   55-64    Male                                  University degree   \n",
      "16      17   35-44  Female  Some college or university, no certificate or ...   \n",
      "17      18   45-54    Male                            Left school at 16 years   \n",
      "18      19   55-64    Male                                  University degree   \n",
      "19      20   35-44    Male                  Professional certificate/ diploma   \n",
      "20      21   45-54    Male                  Professional certificate/ diploma   \n",
      "21      22  65-100    Male                        Left school before 16 years   \n",
      "22      23   45-54    Male                                  University degree   \n",
      "23      24   45-54    Male                            Left school at 16 years   \n",
      "24      25   55-64    Male                                  University degree   \n",
      "25      26   45-54    Male  Some college or university, no certificate or ...   \n",
      "26      27   55-64  Female                            Left school at 18 years   \n",
      "27      28   35-44    Male                                  University degree   \n",
      "28      29   35-44  Female                                     Masters degree   \n",
      "29      30   45-54    Male                                   Doctorate degree   \n",
      "...    ...     ...     ...                                                ...   \n",
      "1855  1859   35-44    Male                  Professional certificate/ diploma   \n",
      "1856  1860   18-24    Male  Some college or university, no certificate or ...   \n",
      "1857  1861   18-24    Male  Some college or university, no certificate or ...   \n",
      "1858  1862   18-24    Male                            Left school at 18 years   \n",
      "1859  1863   35-44    Male  Some college or university, no certificate or ...   \n",
      "1860  1864   55-64  Female                                  University degree   \n",
      "1861  1865   25-34  Female                                  University degree   \n",
      "1862  1866   45-54    Male                        Left school before 16 years   \n",
      "1863  1867   18-24  Female  Some college or university, no certificate or ...   \n",
      "1864  1868   25-34    Male  Some college or university, no certificate or ...   \n",
      "1865  1869   18-24  Female                  Professional certificate/ diploma   \n",
      "1866  1870   18-24  Female                                  University degree   \n",
      "1867  1871   18-24  Female  Some college or university, no certificate or ...   \n",
      "1868  1872   18-24    Male  Some college or university, no certificate or ...   \n",
      "1869  1873   18-24    Male  Some college or university, no certificate or ...   \n",
      "1870  1874   25-34  Female                                  University degree   \n",
      "1871  1875   18-24    Male                            Left school at 18 years   \n",
      "1872  1876   18-24    Male  Some college or university, no certificate or ...   \n",
      "1873  1877   18-24    Male                            Left school at 17 years   \n",
      "1874  1878  65-100    Male  Some college or university, no certificate or ...   \n",
      "1875  1879   18-24    Male  Some college or university, no certificate or ...   \n",
      "1876  1880   25-34    Male  Some college or university, no certificate or ...   \n",
      "1877  1881   18-24    Male                            Left school at 17 years   \n",
      "1878  1882   18-24    Male                                  University degree   \n",
      "1879  1883   18-24    Male  Some college or university, no certificate or ...   \n",
      "1880  1884   18-24  Female  Some college or university, no certificate or ...   \n",
      "1881  1885   18-24    Male  Some college or university, no certificate or ...   \n",
      "1882  1886   25-34  Female                                  University degree   \n",
      "1883  1887   18-24  Female  Some college or university, no certificate or ...   \n",
      "1884  1888   18-24    Male  Some college or university, no certificate or ...   \n",
      "\n",
      "                  Country  Ethnicity    Nscore   Escore   Oscore   Ascore  \\\n",
      "0                      UK    0.12600   0.31287 -0.57545 -0.58331 -0.91699   \n",
      "1                      UK   -0.31685  -0.67825  1.93886  1.43533  0.76096   \n",
      "2                      UK   -0.31685  -0.46725  0.80523 -0.84732 -1.62090   \n",
      "3                      UK   -0.31685  -0.14882 -0.80615 -0.01928  0.59042   \n",
      "4                      UK   -0.31685   0.73545 -1.63340 -0.45174 -0.30172   \n",
      "5                  Canada   -0.31685  -0.67825 -0.30033 -1.55521  2.03972   \n",
      "6                     USA   -0.31685  -0.46725 -1.09207 -0.45174 -0.30172   \n",
      "7                      UK   -0.31685  -1.32828  1.93886 -0.84732 -0.30172   \n",
      "8                  Canada   -0.31685   0.62967  2.57309 -0.97631  0.76096   \n",
      "9                      UK   -0.31685  -0.24649  0.00332 -1.42424  0.59042   \n",
      "10                     UK   -0.31685  -1.05308  0.80523 -1.11902 -0.76096   \n",
      "11                  Other   -0.31685  -1.32828  0.00332  0.14143 -1.92595   \n",
      "12                     UK   -0.31685   2.28554  0.16767  0.44585 -1.62090   \n",
      "13                 Canada   -0.31685  -0.79151  0.80523 -0.01928  0.94156   \n",
      "14                     UK   -0.31685  -0.92104  1.45421  0.44585 -0.60633   \n",
      "15                     UK   -0.31685  -2.05048 -1.50796 -1.55521 -1.07533   \n",
      "16                     UK   -0.31685  -1.55078 -0.80615 -1.68062  0.28783   \n",
      "17                     UK   -0.31685   0.52135 -1.23177 -0.31776 -0.45321   \n",
      "18              Australia   -0.31685   1.37297 -0.15487 -0.17779 -1.92595   \n",
      "19                     UK   -0.31685  -0.34799 -1.76250 -2.39883 -1.92595   \n",
      "20                     UK   -0.31685  -0.79151  0.80523  0.72330  1.61108   \n",
      "21                     UK   -0.31685   -1.1943  0.47617 -1.11902 -0.60633   \n",
      "22                     UK   -0.31685   0.41667 -0.94779 -0.84732  1.11406   \n",
      "23                     UK   -0.31685   1.60383 -3.27393 -1.27553  0.28783   \n",
      "24                     UK   -0.31685  -0.14882  0.63779  1.24033  0.76096   \n",
      "25                     UK   -0.31685  -0.79151 -0.43999 -1.27553  0.94156   \n",
      "26                 Canada   -0.31685  -0.05188 -1.63340 -3.27393 -0.76096   \n",
      "27                     UK   -0.31685   0.52135 -1.23177 -0.01928 -0.01729   \n",
      "28                     UK   -0.31685   0.04257 -1.50796 -0.71727  0.28783   \n",
      "29                     UK   -0.31685  -1.32828  1.74091  0.88309  0.94156   \n",
      "...                   ...        ...       ...      ...      ...      ...   \n",
      "1855                Other   -0.31685   -1.1943  1.11406  0.58331 -0.01729   \n",
      "1856                  USA   -0.31685   0.31287 -0.57545 -0.31776 -1.47955   \n",
      "1857                  USA   -0.31685   1.72012  0.32197  1.65653 -0.15487   \n",
      "1858                  USA   -0.31685  -0.24649  0.32197  0.44585 -0.15487   \n",
      "1859                Other   -0.31685  -0.34799  0.00332  0.72330  0.28783   \n",
      "1860               Canada   -0.31685  -1.69163 -1.09207  1.06238 -0.45321   \n",
      "1861                  USA    0.11440  -0.34799  0.00332  1.24033 -0.15487   \n",
      "1862                  USA   -0.31685   0.73545 -0.43999  0.44585 -1.07533   \n",
      "1863                  USA   -0.31685   0.62967  0.63779  2.90161 -1.07533   \n",
      "1864                  USA   -0.31685  -2.05048  0.00332  2.15324 -0.91699   \n",
      "1865                  USA   -0.31685   0.04257  0.00332  2.44904 -0.60633   \n",
      "1866                  USA   -0.31685   0.13606 -0.80615  1.43533  0.28783   \n",
      "1867                  USA   -0.31685   1.13281 -0.43999  0.29338 -0.76096   \n",
      "1868                Other   -0.31685  -0.58016 -0.15487  0.29338 -1.62090   \n",
      "1869                  USA   -0.31685  -0.14882  1.11406  1.43533 -0.30172   \n",
      "1870                Other   -0.31685  -1.05308  0.96248  1.88511  1.81866   \n",
      "1871                  USA   -0.31685   1.02119 -0.43999  1.43533 -1.07533   \n",
      "1872               Canada   -0.31685  -0.79151  0.00332  2.44904  0.76096   \n",
      "1873                  USA   -0.31685   0.73545 -1.23177  0.58331 -0.60633   \n",
      "1874                  USA   -0.31685     2.127 -0.15487  2.44904  0.94156   \n",
      "1875                  USA    0.12600  -0.05188 -1.76250  0.58331 -0.76096   \n",
      "1876               Canada    0.11440  -0.14882 -0.57545  1.43533 -0.91699   \n",
      "1877                  USA   -0.31685   1.49158 -1.92173 -0.58331 -1.77200   \n",
      "1878               Canada   -0.31685  -0.05188 -1.76250  0.88309 -0.76096   \n",
      "1879                Other   -0.31685  -0.79151  0.32197  0.29338 -0.30172   \n",
      "1880                  USA   -0.31685   -1.1943  1.74091  1.88511  0.76096   \n",
      "1881                  USA   -0.31685  -0.24649  1.74091  0.58331  0.76096   \n",
      "1882                  USA   -0.31685   1.13281 -1.37639 -1.27553 -1.77200   \n",
      "1883                  USA   -0.31685   0.91093 -1.92173  0.29338 -1.62090   \n",
      "1884  Republic of Ireland   -0.31685  -0.46725  2.12700  1.65653  1.11406   \n",
      "\n",
      "      ...  Ecstasy  Heroin  Ketamine Legalh  LSD Meth Mushrooms Nicotine  \\\n",
      "0     ...      CL0     CL0       CL0    CL0  CL0  CL0       CL0      CL2   \n",
      "1     ...      CL4     CL0       CL2    CL0  CL2  CL3       CL0      CL4   \n",
      "2     ...      CL0     CL0       CL0    CL0  CL0  CL0       CL1      CL0   \n",
      "3     ...      CL0     CL0       CL2    CL0  CL0  CL0       CL0      CL2   \n",
      "4     ...      CL1     CL0       CL0    CL1  CL0  CL0       CL2      CL2   \n",
      "5     ...      CL0     CL0       CL0    CL0  CL0  CL0       CL0      CL6   \n",
      "6     ...      CL0     CL0       CL0    CL0  CL0  CL0       CL0      CL6   \n",
      "7     ...      CL0     CL0       CL0    CL0  CL0  CL0       CL0      CL0   \n",
      "8     ...      CL0     CL0       CL0    CL0  CL0  CL0       CL0      CL6   \n",
      "9     ...      CL0     CL0       CL0    CL0  CL0  CL0       CL0      CL6   \n",
      "10    ...      CL0     CL0       CL0    CL0  CL0  CL0       CL0      CL2   \n",
      "11    ...      CL3     CL0       CL0    CL0  CL1  CL0       CL2      CL6   \n",
      "12    ...      CL0     CL0       CL0    CL0  CL1  CL1       CL1      CL6   \n",
      "13    ...      CL0     CL0       CL0    CL0  CL0  CL0       CL0      CL1   \n",
      "14    ...      CL0     CL0       CL0    CL0  CL0  CL0       CL0      CL6   \n",
      "15    ...      CL1     CL0       CL0    CL0  CL0  CL0       CL0      CL0   \n",
      "16    ...      CL0     CL0       CL0    CL0  CL0  CL0       CL0      CL6   \n",
      "17    ...      CL1     CL0       CL2    CL0  CL1  CL0       CL1      CL6   \n",
      "18    ...      CL2     CL0       CL0    CL2  CL1  CL0       CL1      CL0   \n",
      "19    ...      CL1     CL0       CL0    CL0  CL0  CL6       CL0      CL1   \n",
      "20    ...      CL0     CL0       CL0    CL0  CL1  CL0       CL1      CL3   \n",
      "21    ...      CL0     CL0       CL0    CL0  CL0  CL0       CL1      CL1   \n",
      "22    ...      CL0     CL0       CL0    CL0  CL0  CL0       CL0      CL0   \n",
      "23    ...      CL0     CL1       CL0    CL0  CL1  CL0       CL0      CL6   \n",
      "24    ...      CL1     CL0       CL0    CL0  CL1  CL0       CL1      CL6   \n",
      "25    ...      CL2     CL0       CL0    CL3  CL2  CL0       CL2      CL1   \n",
      "26    ...      CL0     CL0       CL0    CL0  CL0  CL0       CL0      CL6   \n",
      "27    ...      CL0     CL0       CL0    CL2  CL1  CL0       CL3      CL2   \n",
      "28    ...      CL0     CL0       CL0    CL0  CL0  CL0       CL0      CL0   \n",
      "29    ...      CL0     CL0       CL0    CL0  CL0  CL0       CL0      CL0   \n",
      "...   ...      ...     ...       ...    ...  ...  ...       ...      ...   \n",
      "1855  ...      CL2     CL0       CL0    CL0  CL4  CL0       CL5      CL2   \n",
      "1856  ...      CL3     CL0       CL0    CL3  CL3  CL0       CL0      CL4   \n",
      "1857  ...      CL6     CL3       CL3    CL3  CL2  CL4       CL3      CL3   \n",
      "1858  ...      CL3     CL0       CL3    CL0  CL6  CL4       CL5      CL6   \n",
      "1859  ...      CL2     CL3       CL0    CL3  CL4  CL2       CL4      CL6   \n",
      "1860  ...      CL3     CL2       CL0    CL0  CL1  CL6       CL2      CL2   \n",
      "1861  ...      CL0     CL0       CL0    CL3  CL0  CL4       CL2      CL4   \n",
      "1862  ...      CL1     CL2       CL1    CL0  CL1  CL5       CL1      CL6   \n",
      "1863  ...      CL5     CL0       CL0    CL3  CL4  CL3       CL4      CL5   \n",
      "1864  ...      CL5     CL2       CL3    CL6  CL6  CL0       CL4      CL6   \n",
      "1865  ...      CL3     CL0       CL0    CL3  CL3  CL3       CL3      CL6   \n",
      "1866  ...      CL4     CL0       CL0    CL4  CL3  CL0       CL3      CL4   \n",
      "1867  ...      CL2     CL2       CL0    CL3  CL2  CL0       CL2      CL6   \n",
      "1868  ...      CL5     CL0       CL0    CL6  CL0  CL0       CL4      CL6   \n",
      "1869  ...      CL3     CL0       CL0    CL3  CL3  CL4       CL3      CL4   \n",
      "1870  ...      CL3     CL0       CL0    CL0  CL3  CL0       CL1      CL5   \n",
      "1871  ...      CL3     CL6       CL3    CL5  CL3  CL3       CL0      CL6   \n",
      "1872  ...      CL2     CL0       CL2    CL2  CL0  CL0       CL0      CL0   \n",
      "1873  ...      CL3     CL2       CL0    CL5  CL2  CL2       CL3      CL6   \n",
      "1874  ...      CL0     CL0       CL0    CL0  CL1  CL0       CL1      CL0   \n",
      "1875  ...      CL5     CL0       CL0    CL2  CL4  CL0       CL4      CL6   \n",
      "1876  ...      CL3     CL0       CL3    CL5  CL3  CL0       CL4      CL2   \n",
      "1877  ...      CL2     CL5       CL0    CL2  CL0  CL6       CL0      CL6   \n",
      "1878  ...      CL0     CL0       CL0    CL2  CL0  CL0       CL2      CL2   \n",
      "1879  ...      CL5     CL2       CL0    CL4  CL5  CL4       CL0      CL6   \n",
      "1880  ...      CL0     CL0       CL0    CL3  CL3  CL0       CL0      CL0   \n",
      "1881  ...      CL2     CL0       CL0    CL3  CL5  CL4       CL4      CL5   \n",
      "1882  ...      CL4     CL0       CL2    CL0  CL2  CL0       CL2      CL6   \n",
      "1883  ...      CL3     CL0       CL0    CL3  CL3  CL0       CL3      CL4   \n",
      "1884  ...      CL3     CL0       CL0    CL3  CL3  CL0       CL3      CL6   \n",
      "\n",
      "     Semer  VSA  \n",
      "0      CL0  CL0  \n",
      "1      CL0  CL0  \n",
      "2      CL0  CL0  \n",
      "3      CL0  CL0  \n",
      "4      CL0  CL0  \n",
      "5      CL0  CL0  \n",
      "6      CL0  CL0  \n",
      "7      CL0  CL0  \n",
      "8      CL0  CL0  \n",
      "9      CL0  CL0  \n",
      "10     CL0  CL1  \n",
      "11     CL0  CL0  \n",
      "12     CL0  CL0  \n",
      "13     CL0  CL0  \n",
      "14     CL0  CL0  \n",
      "15     CL0  CL0  \n",
      "16     CL0  CL0  \n",
      "17     CL0  CL0  \n",
      "18     CL0  CL0  \n",
      "19     CL0  CL0  \n",
      "20     CL0  CL0  \n",
      "21     CL0  CL0  \n",
      "22     CL0  CL0  \n",
      "23     CL0  CL1  \n",
      "24     CL0  CL0  \n",
      "25     CL0  CL0  \n",
      "26     CL0  CL0  \n",
      "27     CL0  CL0  \n",
      "28     CL0  CL0  \n",
      "29     CL0  CL0  \n",
      "...    ...  ...  \n",
      "1855   CL0  CL0  \n",
      "1856   CL0  CL2  \n",
      "1857   CL0  CL2  \n",
      "1858   CL0  CL0  \n",
      "1859   CL0  CL1  \n",
      "1860   CL0  CL0  \n",
      "1861   CL0  CL0  \n",
      "1862   CL0  CL0  \n",
      "1863   CL0  CL0  \n",
      "1864   CL0  CL2  \n",
      "1865   CL0  CL1  \n",
      "1866   CL0  CL0  \n",
      "1867   CL0  CL0  \n",
      "1868   CL0  CL0  \n",
      "1869   CL0  CL0  \n",
      "1870   CL0  CL0  \n",
      "1871   CL0  CL6  \n",
      "1872   CL0  CL0  \n",
      "1873   CL0  CL2  \n",
      "1874   CL0  CL0  \n",
      "1875   CL0  CL2  \n",
      "1876   CL0  CL2  \n",
      "1877   CL0  CL2  \n",
      "1878   CL0  CL0  \n",
      "1879   CL0  CL1  \n",
      "1880   CL0  CL5  \n",
      "1881   CL0  CL0  \n",
      "1882   CL0  CL0  \n",
      "1883   CL0  CL0  \n",
      "1884   CL0  CL2  \n",
      "\n",
      "[1885 rows x 32 columns]\n"
     ]
    }
   ],
   "source": [
    "print(lol)"
   ]
  },
  {
   "cell_type": "code",
   "execution_count": 8,
   "metadata": {},
   "outputs": [],
   "source": [
    "colnames = lol.columns[13:]"
   ]
  },
  {
   "cell_type": "code",
   "execution_count": 9,
   "metadata": {},
   "outputs": [
    {
     "name": "stdout",
     "output_type": "stream",
     "text": [
      "590 360 230\n"
     ]
    }
   ],
   "source": [
    "rows = len(lol)\n",
    "cnt = cntm = cntf = 0\n",
    "for person in range(rows):\n",
    "    f = 0\n",
    "    for colname in selected_columns:\n",
    "        if(lol[colname][person] == \"CL4\" or lol[colname][person] == \"CL5\"):\n",
    "            f = f + 1\n",
    "            if(lol['Gender'][person] == 'Male'): cntm = cntm + 1\n",
    "            else : cntf = cntf + 1\n",
    "            break\n",
    "    if(f):\n",
    "        cnt = cnt + 1\n",
    "print(cnt, cntm, cntf)"
   ]
  },
  {
   "cell_type": "code",
   "execution_count": 14,
   "metadata": {},
   "outputs": [
    {
     "name": "stdout",
     "output_type": "stream",
     "text": [
      "[0 1 2 3 4]\n",
      "<class 'numpy.ndarray'>\n"
     ]
    },
    {
     "data": {
      "image/png": "[encoded data removed]",
      "text/plain": [
       "<Figure size 432x288 with 1 Axes>"
      ]
     },
     "metadata": {
      "needs_background": "light"
     },
     "output_type": "display_data"
    }
   ],
   "source": [
    "import numpy as np\n",
    "import matplotlib.pyplot as plt\n",
    "\n",
    "\n",
    "N = 5\n",
    "menMeans = [10, 35, 30, 35, 27]\n",
    "womenMeans = (30, 32, 34, 20, 25)\n",
    "otherMeans = (5, 2, 3, 4, 5)\n",
    "ind = np.arange(N)    # the x locations for the groups\n",
    "print(ind)\n",
    "print(type(ind))\n",
    "width = 0.35       # the width of the bars: can also be len(x) sequence\n",
    "\n",
    "p1 = plt.bar(ind, menMeans, width, bottom = otherMeans, color = 'grey')\n",
    "p2 = plt.bar(ind, womenMeans, width,\n",
    "             bottom=menMeans, color= 'r')\n",
    "p3 = plt.bar(ind, otherMeans, width)\n",
    "\n",
    "plt.ylabel('Scores')\n",
    "plt.title('Scores by group and gender')\n",
    "plt.xticks([0, 1, 2, 3, 4], ['G1', 'G2', 'G3', 'G4', 'G5'])\n",
    "# plt.yticks(np.arange(0, 81, 10))\n",
    "plt.legend([p1[0], p2[0], p3[0]], ['Men', 'Women', 'Other'])\n",
    "\n",
    "plt.show()"
   ]
  },
  {
   "cell_type": "code",
   "execution_count": 32,
   "metadata": {},
   "outputs": [
    {
     "name": "stdout",
     "output_type": "stream",
     "text": [
      "[5, 4, 5, 5, 4, 1, 2, 0, 4, 2, 1, 0, 4, 4, 5, 5, 3, 5, 4, 0]\n",
      "[2, 2, 0, 5, 5, 0, 0, 4, 1, 2, 5, 4, 3, 5, 5, 4, 0, 5, 3, 0]\n"
     ]
    },
    {
     "data": {
      "image/png": "[encoded data removed]",
      "text/plain": [
       "<Figure size 432x288 with 1 Axes>"
      ]
     },
     "metadata": {
      "needs_background": "light"
     },
     "output_type": "display_data"
    }
   ],
   "source": [
    "import random\n",
    "import numpy\n",
    "from matplotlib import pyplot\n",
    "\n",
    "x = [random.randint(0, 5) for _ in range(20)]\n",
    "y = [random.randint(0, 5) for _ in range(20)]\n",
    "z = ['Abeer', 'Abeer', 'Zim']\n",
    "print(x)\n",
    "print(y)\n",
    "\n",
    "bins = numpy.linspace(-10, 10, 100)\n",
    "\n",
    "pyplot.hist(x, bins, alpha=0.5, label='x', color = 'red')\n",
    "pyplot.hist(y, bins, alpha=0.5, label='y')\n",
    "pyplot.hist(z, bins, alpha=0.5, label='z')\n",
    "pyplot.legend(loc='upper right')\n",
    "pyplot.show()"
   ]
  },
  {
   "cell_type": "code",
   "execution_count": 36,
   "metadata": {},
   "outputs": [
    {
     "data": {
      "image/png": "[encoded data removed]",
      "text/plain": [
       "<Figure size 432x288 with 1 Axes>"
      ]
     },
     "metadata": {
      "needs_background": "light"
     },
     "output_type": "display_data"
    }
   ],
   "source": [
    "import matplotlib.pyplot as plt\n",
    "radius = [1.0, 2.0, 3.0, 4.0, 5.0, 6.0]\n",
    "area = [3.14159, 12.56636, 28.27431, 50.26544, 78.53975, 113.09724]\n",
    "square = [1.0, 4.0, 9.0, 16.0, 25.0, 36.0]\n",
    "plt.plot(radius, area, label='Circle')\n",
    "plt.plot(radius, square, marker='o', linestyle='--', color='r', label='Square')\n",
    "plt.xlabel('Radius/Side')\n",
    "plt.ylabel('Area')\n",
    "plt.title('Area of Shapes')\n",
    "plt.legend()\n",
    "plt.show()"
   ]
  }
 ],
 "metadata": {
  "kernelspec": {
   "display_name": "Python 3",
   "language": "python",
   "name": "python3"
  },
  "language_info": {
   "codemirror_mode": {
    "name": "ipython",
    "version": 3
   },
   "file_extension": ".py",
   "mimetype": "text/x-python",
   "name": "python",
   "nbconvert_exporter": "python",
   "pygments_lexer": "ipython3",
   "version": "3.7.3"
  }
 },
 "nbformat": 4,
 "nbformat_minor": 2
}
