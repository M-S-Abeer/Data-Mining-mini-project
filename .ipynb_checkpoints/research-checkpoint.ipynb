{
 "cells": [
  {
   "cell_type": "code",
   "execution_count": 74,
   "metadata": {},
   "outputs": [],
   "source": [
    "#Data source: http://archive.ics.uci.edu/ml/datasets/Drug+consumption+%28quantified%29#\n",
    "import pandas as pd\n",
    "import numpy as np\n",
    "import matplotlib.pyplot as plt\n",
    "import math"
   ]
  },
  {
   "cell_type": "code",
   "execution_count": 30,
   "metadata": {},
   "outputs": [
    {
     "name": "stdout",
     "output_type": "stream",
     "text": [
      "1885\n"
     ]
    }
   ],
   "source": [
    "data = pd.read_csv('drug_data.csv')\n",
    "data_len = len(data)\n",
    "print(data_len)"
   ]
  },
  {
   "cell_type": "code",
   "execution_count": 48,
   "metadata": {},
   "outputs": [
    {
     "name": "stdout",
     "output_type": "stream",
     "text": [
      "{'NZL', 'Other', 'IRL', 'AUS', 'GBR', 'USA', 'CAN'}\n",
      "NZL 5\n",
      "Other 118\n",
      "IRL 20\n",
      "AUS 54\n",
      "GBR 1044\n",
      "USA 557\n",
      "CAN 87\n"
     ]
    }
   ],
   "source": [
    "#testing data\n",
    "# len(data['Gender'])\n",
    "tmp = set()\n",
    "for lol in data['Country']:\n",
    "    tmp.add(lol)\n",
    "print(tmp)\n",
    "\n",
    "population = {}\n",
    "\n",
    "for country in tmp:\n",
    "    population[country] = sum(data[\"Country\"][i] == country for i in range(data_len))\n",
    "    print(country, population[country])"
   ]
  },
  {
   "cell_type": "code",
   "execution_count": 176,
   "metadata": {},
   "outputs": [],
   "source": [
    "# drug_names = [\"Cannabis\", \"Coke\", \"Heroin\", \"Nicotine\", \"Alcohol\"]\n",
    "drug_names = [\"Cannabis\", \"Coke\", \"Heroin\", \"Nicotine\"]\n",
    "country_names = ['NZL', 'IRL', 'AUS', 'GBR', 'USA', 'CAN', 'Other']\n",
    "addict = [\"CL5\", \"CL6\"]\n",
    "occational = [\"CL3\", \"CL4\"]\n",
    "almost_never = [\"CL0\", \"CL1\", \"CL2\"]\n",
    "\n",
    "def drug_counter(country, drug_name, addict_type):\n",
    "    cnt = int(0)\n",
    "    for person in range(data_len):\n",
    "        if(country!=data[\"Country\"][person]): continue\n",
    "        f1 = 0\n",
    "        f2 = 0\n",
    "#         f3 = 0\n",
    "        for drug in drug_names:\n",
    "            if(data[drug][person] in addict_type):\n",
    "                if(drug == drug_name):\n",
    "                    f1 = 1\n",
    "                else:\n",
    "                    f2 = 1\n",
    "#                 f3 = f3 + 1\n",
    "#         if(drug_name == \"MM\"):\n",
    "#             if(f3>1):\n",
    "#                 cnt = cnt + 1\n",
    "#         else:\n",
    "        if(f1 == 1):\n",
    "                cnt = cnt + 1\n",
    "    return cnt"
   ]
  },
  {
   "cell_type": "code",
   "execution_count": 45,
   "metadata": {},
   "outputs": [
    {
     "name": "stdout",
     "output_type": "stream",
     "text": [
      "[0 1 2 3 4 5 6]\n"
     ]
    }
   ],
   "source": [
    "N = np.arange(len(country_names))\n",
    "print(N)"
   ]
  },
  {
   "cell_type": "code",
   "execution_count": 177,
   "metadata": {},
   "outputs": [
    {
     "name": "stdout",
     "output_type": "stream",
     "text": [
      "Cannabis [40, 50, 47, 16, 63, 41, 53]\n",
      "Coke [0, 5, 0, 3, 5, 11, 3]\n",
      "Heroin [0, 0, 0, 1, 4, 6, 1]\n",
      "Nicotine [20, 75, 49, 32, 53, 51, 54]\n"
     ]
    }
   ],
   "source": [
    "Cannabis = [int(math.ceil(drug_counter(country, \"Cannabis\", addict)*100.0/population[country])) for country in country_names]\n",
    "print(\"Cannabis\", Cannabis)\n",
    "\n",
    "Coke = [int(math.ceil(drug_counter(country, \"Coke\", addict)*100.0/population[country])) for country in country_names]\n",
    "print(\"Coke\", Coke)\n",
    "\n",
    "Heroin = [int(math.ceil(drug_counter(country, \"Heroin\", addict)*100.0/population[country])) for country in country_names]\n",
    "print(\"Heroin\", Heroin)\n",
    "\n",
    "Nicotine = [int(math.ceil(drug_counter(country, \"Nicotine\", addict)*100.0/population[country])) for country in country_names]\n",
    "print(\"Nicotine\", Nicotine)\n",
    "\n",
    "# Alcohol = [int(math.ceil(drug_counter(country, \"Alcohol\", addict)*100.0/population[country])) for country in country_names]\n",
    "# print(\"Alcohol\", Alcohol)\n",
    "\n",
    "# MM = [int(math.ceil(drug_counter(country, \"MM\", addict)*100.0/population[country])) for country in country_names]\n",
    "# print(\"MM\", MM)"
   ]
  },
  {
   "cell_type": "code",
   "execution_count": 178,
   "metadata": {},
   "outputs": [
    {
     "data": {
      "image/png": "[encoded data removed]",
      "text/plain": [
       "<Figure size 432x288 with 1 Axes>"
      ]
     },
     "metadata": {
      "needs_background": "light"
     },
     "output_type": "display_data"
    }
   ],
   "source": [
    "width = 0.35\n",
    "axes = plt.gca()\n",
    "axes.set_xlim([-0.5, 7])\n",
    "axes.set_ylim([0, 100])\n",
    "plt.ylabel('Percentage')\n",
    "plt.xlabel('Countries')\n",
    "plt.title('Cannabis consumption rate')\n",
    "Cannabis_column = plt.bar(N, Cannabis, width, color = 'green')\n",
    "plt.xticks(N, country_names)\n",
    "# plt.legend()\n",
    "plt.show()\n",
    "plt.close()"
   ]
  },
  {
   "cell_type": "code",
   "execution_count": 179,
   "metadata": {},
   "outputs": [
    {
     "data": {
      "image/png": "[encoded data removed]",
      "text/plain": [
       "<Figure size 432x288 with 1 Axes>"
      ]
     },
     "metadata": {
      "needs_background": "light"
     },
     "output_type": "display_data"
    }
   ],
   "source": [
    "width = 0.35\n",
    "axes = plt.gca()\n",
    "axes.set_xlim([-0.5, 7])\n",
    "axes.set_ylim([0, 100])\n",
    "plt.ylabel('Percentage')\n",
    "plt.xlabel('Countries')\n",
    "plt.title('Cocaine consumption rate')\n",
    "Coke_column = plt.bar(N, Coke, width, color = 'brown')\n",
    "plt.xticks(N, country_names)\n",
    "# plt.legend()\n",
    "plt.show()\n",
    "plt.close()"
   ]
  },
  {
   "cell_type": "code",
   "execution_count": 180,
   "metadata": {},
   "outputs": [
    {
     "data": {
      "image/png": "[encoded data removed]",
      "text/plain": [
       "<Figure size 432x288 with 1 Axes>"
      ]
     },
     "metadata": {
      "needs_background": "light"
     },
     "output_type": "display_data"
    }
   ],
   "source": [
    "width = 0.35\n",
    "axes = plt.gca()\n",
    "axes.set_xlim([-0.5, 7])\n",
    "axes.set_ylim([0, 100])\n",
    "plt.ylabel('Percentage')\n",
    "plt.xlabel('Countries')\n",
    "plt.title('Heroin consumption rate')\n",
    "Heroin_column = plt.bar(N, Heroin, width, color = 'grey')\n",
    "plt.xticks(N, country_names)\n",
    "# plt.legend()\n",
    "plt.show()\n",
    "plt.close()"
   ]
  },
  {
   "cell_type": "code",
   "execution_count": 181,
   "metadata": {},
   "outputs": [
    {
     "data": {
      "image/png": "[encoded data removed]",
      "text/plain": [
       "<Figure size 432x288 with 1 Axes>"
      ]
     },
     "metadata": {
      "needs_background": "light"
     },
     "output_type": "display_data"
    }
   ],
   "source": [
    "width = 0.35\n",
    "axes = plt.gca()\n",
    "axes.set_xlim([-0.5, 7])\n",
    "axes.set_ylim([0, 100])\n",
    "plt.ylabel('Percentage')\n",
    "plt.xlabel('Countries')\n",
    "plt.title('Nicotine consumption rate')\n",
    "Nicotine_column = plt.bar(N, Nicotine, width, color = 'black')\n",
    "plt.xticks(N, country_names)\n",
    "# plt.legend()\n",
    "plt.show()\n",
    "plt.close()"
   ]
  },
  {
   "cell_type": "code",
   "execution_count": 175,
   "metadata": {},
   "outputs": [],
   "source": [
    "# width = 0.35\n",
    "# axes = plt.gca()\n",
    "# axes.set_xlim([-0.5, 7])\n",
    "# axes.set_ylim([0, 100])\n",
    "# plt.ylabel('Percentage')\n",
    "# plt.xlabel('Countries')\n",
    "# plt.title('Alcohol consumption rate')\n",
    "# Alcohol_column = plt.bar(N, Alcohol, width, color = 'yellow')\n",
    "# plt.xticks(N, country_names)\n",
    "# # plt.legend()\n",
    "# plt.show()"
   ]
  },
  {
   "cell_type": "code",
   "execution_count": 189,
   "metadata": {},
   "outputs": [
    {
     "data": {
      "image/png": "[encoded data removed]",
      "text/plain": [
       "<Figure size 432x288 with 1 Axes>"
      ]
     },
     "metadata": {
      "needs_background": "light"
     },
     "output_type": "display_data"
    }
   ],
   "source": [
    "plt.close()\n",
    "axes = plt.gca()\n",
    "axes.set_xlim([-0.5, 9])\n",
    "axes.set_ylim([0, 150])\n",
    "\n",
    "width = 0.35\n",
    "plt.ylabel('Count of selected drug consumption')\n",
    "plt.xlabel('Countries')\n",
    "plt.title('Selected drugs consumption rate')\n",
    "\n",
    "# Alcohol_column = plt.bar(N, Alcohol, width, color = 'yellow')\n",
    "# base = Alcohol\n",
    "\n",
    "# Nicotine_column = plt.bar(N, Nicotine, width, bottom = base, color = 'black')\n",
    "# base = np.add(base, Nicotine)\n",
    "\n",
    "Nicotine_column = plt.bar(N, Nicotine, width, color = 'black')\n",
    "base = Nicotine\n",
    "\n",
    "Cannabis_column = plt.bar(N, Cannabis, width, bottom = base, color = 'green')\n",
    "base = np.add(base, Cannabis)\n",
    "\n",
    "Coke_column = plt.bar(N, Coke, width, bottom = base, color = 'brown')\n",
    "base = np.add(base, Coke)\n",
    "\n",
    "Heroin_column = plt.bar(N, Heroin, width, bottom = base, color = 'grey')\n",
    "base = np.add(base, Heroin)\n",
    "\n",
    "plt.xticks(N, country_names)\n",
    "plt.legend([Heroin_column, Coke_column, Cannabis_column, Nicotine_column, Alcohol_column], [\"Heroin\", \"Cocaine\", \"Cannabis\", \"Nicotine\", \"Alcohol\"], loc=\"lower right\")\n",
    "plt.show()\n",
    "plt.close()"
   ]
  },
  {
   "cell_type": "code",
   "execution_count": 185,
   "metadata": {},
   "outputs": [],
   "source": [
    "Educated= [\"Professional certificate/ diploma\", \"University degree\", \"Masters degree\", \"Doctorate degree\"]\n",
    "\n",
    "def addict_counter(country, addict_type):\n",
    "    cnt = int(0)\n",
    "    for _ in range(data_len):\n",
    "        if(data[\"Country\"][_] == country):\n",
    "            f = 0\n",
    "            for drug in drug_names:\n",
    "                if(data[drug][_] in addict_type):\n",
    "                    f = 1\n",
    "                    break\n",
    "            if(f):\n",
    "                cnt = cnt + 1\n",
    "    return int(math.ceil(cnt * 100 / population[country]))\n",
    "\n",
    "\n",
    "def educated_counter(country):\n",
    "    cnt = int(0)\n",
    "    for _ in range(data_len):\n",
    "        if(data[\"Country\"][_] == country and data[\"Education\"][_] in Educated):\n",
    "            cnt = cnt + 1\n",
    "    return int(math.ceil(cnt * 100 / population[country]))\n",
    "\n",
    "def not_educated_counter(country):\n",
    "    cnt = int(0)\n",
    "    for _ in range(data_len):\n",
    "        if(data[\"Country\"][_] == country and data[\"Education\"][_] not in Educated):\n",
    "            cnt = cnt + 1\n",
    "    return int(math.ceil(cnt * 100 / population[country]))"
   ]
  },
  {
   "cell_type": "code",
   "execution_count": 188,
   "metadata": {},
   "outputs": [
    {
     "name": "stdout",
     "output_type": "stream",
     "text": [
      "[40, 80, 67, 37, 79, 66, 68]\n",
      "[60, 40, 58, 75, 37, 53, 46]\n",
      "[40, 60, 43, 26, 64, 48, 55]\n"
     ]
    }
   ],
   "source": [
    "educated_cnt = [educated_counter(x) for x in country_names]\n",
    "not_educated_cnt = [not_educated_counter(x) for x in country_names]\n",
    "addict_cnt = [addict_counter(x, addict) for x in country_names]\n",
    "\n",
    "print(addict_cnt)\n",
    "print(educated_cnt)\n",
    "print(not_educated_cnt)"
   ]
  },
  {
   "cell_type": "code",
   "execution_count": 204,
   "metadata": {},
   "outputs": [
    {
     "data": {
      "image/png": "[encoded data removed]",
      "text/plain": [
       "<Figure size 432x288 with 1 Axes>"
      ]
     },
     "metadata": {
      "needs_background": "light"
     },
     "output_type": "display_data"
    }
   ],
   "source": [
    "axes = plt.gca()\n",
    "axes.set_xlim([-0.5, 6])\n",
    "axes.set_ylim([10, 110])\n",
    "plt.plot(country_names, addict_cnt, label = 'Addict', linestyle='--', marker = 'o', color = 'blue')\n",
    "plt.plot(country_names, educated_cnt, label = 'Educated', marker = 'o', color = 'green')\n",
    "plt.plot(country_names, not_educated_cnt, label = 'Not educated', marker = 'o', color = 'red')\n",
    "plt.xlabel('Countries')\n",
    "plt.ylabel('Percentage')\n",
    "plt.title('Line graph of addiction based on Education')\n",
    "plt.legend(loc='upper right')\n",
    "plt.show()\n",
    "plt.close()"
   ]
  },
  {
   "cell_type": "code",
   "execution_count": 227,
   "metadata": {},
   "outputs": [
    {
     "name": "stdout",
     "output_type": "stream",
     "text": [
      "25.0\n"
     ]
    }
   ],
   "source": [
    "def isAddict(person_id):\n",
    "    for drug in drug_names:\n",
    "        if(data[drug][person_id] in addict):\n",
    "            return 1\n",
    "    return 0\n",
    "\n",
    "def probability_of_getting_addicted(kw, d_len = data_len): #kwargs is a map with keys as Age, Gender, Education, Country where values are specified exactly as dataset\n",
    "    keys = list()\n",
    "    for key in kw.keys():\n",
    "        keys.append(key)\n",
    "    tot = 0\n",
    "    addict = 0\n",
    "    for person in range(data_len):\n",
    "        f = 1\n",
    "        for tp in keys:\n",
    "            if(data[tp][person] != kw[tp]):\n",
    "                f = 0\n",
    "                break\n",
    "        if(f):\n",
    "            tot = tot + 1\n",
    "            if(isAddict(person)):\n",
    "                addict = addict + 1\n",
    "    tot = max(tot, 1)\n",
    "    return addict*100.00/tot\n",
    "\n",
    "lol = dict()\n",
    "lol[\"Age\"] = \"25-34\"\n",
    "lol[\"Gender\"] = \"Male\"\n",
    "lol[\"Education\"] = \"Doctorate degree\"\n",
    "lol[\"Country\"] = \"GBR\"\n",
    "\n",
    "print(probability_of_getting_addicted(lol)) # data of second person in dataset"
   ]
  },
  {
   "cell_type": "code",
   "execution_count": 241,
   "metadata": {},
   "outputs": [
    {
     "name": "stdout",
     "output_type": "stream",
     "text": [
      "        ID    Age  Gender                                          Education  \\\n",
      "0     1612  25-34  Female                                  University degree   \n",
      "1       28  35-44    Male                                  University degree   \n",
      "2      285  35-44    Male                  Professional certificate/ diploma   \n",
      "3      944  18-24  Female  Some college or university, no certificate or ...   \n",
      "4      115  35-44    Male  Some college or university, no certificate or ...   \n",
      "5     1623  35-44    Male                                  University degree   \n",
      "6     1577  35-44  Female  Some college or university, no certificate or ...   \n",
      "7     1119  18-24    Male  Some college or university, no certificate or ...   \n",
      "8      182  25-34    Male                                   Doctorate degree   \n",
      "9     1397  25-34  Female                                     Masters degree   \n",
      "10    1564  35-44    Male                  Professional certificate/ diploma   \n",
      "11     341  45-54  Female                  Professional certificate/ diploma   \n",
      "12    1682  45-54  Female  Some college or university, no certificate or ...   \n",
      "13    1056  25-34    Male                            Left school at 16 years   \n",
      "14    1022  18-24    Male                                  University degree   \n",
      "15     104  45-54  Female                  Professional certificate/ diploma   \n",
      "16     900  25-34    Male                                  University degree   \n",
      "17    1876  18-24    Male  Some college or university, no certificate or ...   \n",
      "18     976  18-24    Male  Some college or university, no certificate or ...   \n",
      "19      58  25-34  Female                                  University degree   \n",
      "20    1017  18-24    Male                  Professional certificate/ diploma   \n",
      "21     644  25-34  Female                                     Masters degree   \n",
      "22    1556  25-34    Male                                     Masters degree   \n",
      "23    1687  35-44  Female                  Professional certificate/ diploma   \n",
      "24    1257  35-44  Female                                  University degree   \n",
      "25     879  25-34    Male  Some college or university, no certificate or ...   \n",
      "26      17  35-44  Female  Some college or university, no certificate or ...   \n",
      "27     977  65-99    Male                                     Masters degree   \n",
      "28     260  65-99    Male                  Professional certificate/ diploma   \n",
      "29     931  18-24  Female  Some college or university, no certificate or ...   \n",
      "...    ...    ...     ...                                                ...   \n",
      "1855  1213  18-24    Male  Some college or university, no certificate or ...   \n",
      "1856   856  18-24  Female  Some college or university, no certificate or ...   \n",
      "1857   213  25-34  Female                  Professional certificate/ diploma   \n",
      "1858   748  25-34  Female                                     Masters degree   \n",
      "1859   683  25-34    Male                                     Masters degree   \n",
      "1860   138  45-54  Female                                  University degree   \n",
      "1861   318  35-44    Male                                  University degree   \n",
      "1862  1232  18-24  Female                                  University degree   \n",
      "1863   582  35-44  Female  Some college or university, no certificate or ...   \n",
      "1864  1121  18-24    Male  Some college or university, no certificate or ...   \n",
      "1865  1099  18-24    Male                            Left school at 18 years   \n",
      "1866   746  45-54    Male  Some college or university, no certificate or ...   \n",
      "1867   241  35-44  Female                                     Masters degree   \n",
      "1868  1391  18-24    Male                                  University degree   \n",
      "1869   672  35-44    Male                  Professional certificate/ diploma   \n",
      "1870  1762  35-44  Female                  Professional certificate/ diploma   \n",
      "1871    38  55-64    Male                        Left school before 16 years   \n",
      "1872    62  45-54    Male                                     Masters degree   \n",
      "1873  1118  18-24    Male  Some college or university, no certificate or ...   \n",
      "1874  1654  25-34  Female                                   Doctorate degree   \n",
      "1875  1468  55-64  Female                                  University degree   \n",
      "1876   566  45-54  Female  Some college or university, no certificate or ...   \n",
      "1877  1199  25-34    Male                                  University degree   \n",
      "1878   545  25-34  Female                                  University degree   \n",
      "1879  1002  18-24    Male  Some college or university, no certificate or ...   \n",
      "1880   382  35-44    Male                                  University degree   \n",
      "1881   954  25-34  Female                                  University degree   \n",
      "1882  1171  35-44  Female                                  University degree   \n",
      "1883   707  18-24  Female                                  University degree   \n",
      "1884  1442  45-54  Female                                     Masters degree   \n",
      "\n",
      "     Country  Ethnicity    Nscore   Escore   Oscore   Ascore  ...  Ecstasy  \\\n",
      "0        GBR   -0.31685  -0.34799 -0.43999 -1.42424  1.11406  ...      CL0   \n",
      "1        GBR   -0.31685   0.52135 -1.23177 -0.01928 -0.01729  ...      CL0   \n",
      "2      Other   -0.31685   -1.1943 -0.80615  0.72330 -0.45321  ...      CL2   \n",
      "3        USA    0.12600   1.60383 -0.80615  0.58331  0.43852  ...      CL2   \n",
      "4        GBR   -0.31685   -2.3436  1.93886  1.43533 -0.76096  ...      CL2   \n",
      "5        GBR   -0.31685   0.52135 -0.80615 -1.27553  0.59042  ...      CL0   \n",
      "6        GBR   -0.31685  -0.24649  0.16767 -1.82919 -0.45321  ...      CL0   \n",
      "7        USA   -0.31685   1.60383 -1.23177 -0.17779 -0.91699  ...      CL4   \n",
      "8        GBR   -0.31685  -1.32828 -0.43999 -0.31776  0.59042  ...      CL0   \n",
      "9        GBR   -0.31685   1.72012 -0.43999 -1.27553  1.45039  ...      CL0   \n",
      "10       GBR   -0.31685   0.73545 -1.50796 -0.84732 -0.15487  ...      CL3   \n",
      "11       GBR   -0.31685  -0.14882 -0.30033 -0.58331  0.94156  ...      CL0   \n",
      "12       GBR   -0.31685  -0.24649  1.58487 -0.84732  1.28610  ...      CL0   \n",
      "13       GBR   -0.31685  -0.79151  1.28610  1.65653 -0.60633  ...      CL4   \n",
      "14       USA   -0.31685   0.13606 -0.94779  1.06238 -1.92595  ...      CL0   \n",
      "15       CAN   -0.31685   0.04257  0.63779 -0.31776 -0.30172  ...      CL0   \n",
      "16       USA   -0.31685    1.8399 -0.30033 -0.45174 -0.45321  ...      CL0   \n",
      "17       CAN   -0.31685  -0.79151  0.00332  2.44904  0.76096  ...      CL2   \n",
      "18       USA   -0.31685   1.23461  0.00332  1.06238 -1.21213  ...      CL3   \n",
      "19       GBR   -0.31685  -0.58016  0.63779 -1.97495  0.28783  ...      CL0   \n",
      "20     Other   -0.31685  -2.21844  2.57309  1.88511  0.13136  ...      CL0   \n",
      "21       GBR   -1.10702  -1.05308  0.63779 -0.31776  1.28610  ...      CL0   \n",
      "22       GBR   -0.31685  -1.55078  1.11406 -0.01928 -0.01729  ...      CL0   \n",
      "23       GBR   -0.31685  -1.05308  0.63779 -0.45174  0.59042  ...      CL0   \n",
      "24       GBR   -0.31685  -1.05308 -0.57545 -0.01928 -1.34289  ...      CL0   \n",
      "25       AUS   -0.31685  -0.92104  0.47617  0.72330  0.43852  ...      CL4   \n",
      "26       GBR   -0.31685  -1.55078 -0.80615 -1.68062  0.28783  ...      CL0   \n",
      "27       USA   -0.31685  -2.21844  0.00332  0.58331  0.76096  ...      CL1   \n",
      "28       GBR   -0.31685  -1.05308 -0.30033  0.29338  0.43852  ...      CL0   \n",
      "29       GBR    0.11440  -0.24649  0.96248  0.72330  0.28783  ...      CL4   \n",
      "...      ...        ...       ...      ...      ...      ...  ...      ...   \n",
      "1855   Other   -0.31685  -0.24649 -1.09207  0.29338 -0.45321  ...      CL0   \n",
      "1856     USA   -0.31685  -0.34799  0.16767 -0.01928 -0.15487  ...      CL3   \n",
      "1857     GBR   -0.31685   0.13606  0.63779 -0.84732  1.81866  ...      CL1   \n",
      "1858     GBR   -0.31685  -0.05188  0.47617  0.44585  0.28783  ...      CL3   \n",
      "1859     GBR   -0.31685   1.37297 -1.76250  0.44585  0.28783  ...      CL0   \n",
      "1860     GBR   -0.31685   -1.1943  1.58487  0.29338  0.76096  ...      CL0   \n",
      "1861     GBR   -1.10702  -0.79151  1.93886 -0.97631 -0.01729  ...      CL0   \n",
      "1862   Other    0.11440   1.02119 -1.23177  1.06238 -2.07848  ...      CL3   \n",
      "1863     GBR   -0.31685   -1.1943  0.00332 -1.11902 -0.01729  ...      CL1   \n",
      "1864     USA   -0.31685   1.02119 -0.43999 -0.01928 -1.77200  ...      CL3   \n",
      "1865     GBR   -0.31685  -0.58016 -0.69509  1.65653  1.81866  ...      CL3   \n",
      "1866     GBR   -0.31685  -0.92104  0.16767 -0.01928  0.59042  ...      CL0   \n",
      "1867     GBR   -0.31685   0.62967 -1.23177 -0.01928  1.61108  ...      CL0   \n",
      "1868     USA   -0.31685   0.82562  0.32197 -0.58331 -0.01729  ...      CL0   \n",
      "1869     GBR   -0.31685  -0.46725  0.80523 -0.01928 -0.60633  ...      CL1   \n",
      "1870     GBR   -0.31685  -0.24649 -0.57545 -0.17779 -0.30172  ...      CL0   \n",
      "1871     USA   -0.31685   0.31287  0.32197  1.06238  0.13136  ...      CL0   \n",
      "1872     GBR   -0.50212  -2.21844  1.58487  1.24033  0.13136  ...      CL0   \n",
      "1873     USA    0.11440   0.91093  0.00332  1.24033 -0.15487  ...      CL3   \n",
      "1874     GBR   -0.31685  -0.79151  0.96248 -0.31776  1.81866  ...      CL0   \n",
      "1875     USA   -0.31685  -1.86962  0.80523  0.88309  1.61108  ...      CL0   \n",
      "1876     GBR   -0.31685  -0.46725 -0.43999 -0.01928  0.13136  ...      CL0   \n",
      "1877     CAN   -0.31685  -0.92104 -0.30033 -0.17779 -1.92595  ...      CL0   \n",
      "1878     GBR   -0.31685   0.82562  0.63779 -0.97631 -0.76096  ...      CL2   \n",
      "1879     USA   -0.31685  -0.05188  0.96248 -1.27553 -2.35413  ...      CL3   \n",
      "1880     GBR   -0.31685  -0.46725  1.11406 -0.31776 -0.60633  ...      CL2   \n",
      "1881     GBR   -0.31685   1.02119 -0.94779 -0.01928 -0.30172  ...      CL0   \n",
      "1882     USA   -0.31685   -1.1943  1.28610  1.43533  1.28610  ...      CL2   \n",
      "1883     GBR   -0.31685  -0.14882 -0.94779 -1.42424 -0.45321  ...      CL0   \n",
      "1884     GBR   -0.31685   -1.1943 -0.15487  0.14143  1.45039  ...      CL0   \n",
      "\n",
      "      Heroin  Ketamine Legalh  LSD Meth Mushrooms Nicotine Semer  VSA  \n",
      "0        CL0       CL0    CL0  CL0  CL0       CL0      CL0   CL0  CL0  \n",
      "1        CL0       CL0    CL2  CL1  CL0       CL3      CL2   CL0  CL0  \n",
      "2        CL0       CL0    CL0  CL0  CL0       CL2      CL6   CL0  CL0  \n",
      "3        CL4       CL0    CL0  CL2  CL3       CL2      CL0   CL0  CL0  \n",
      "4        CL2       CL2    CL0  CL2  CL0       CL2      CL6   CL0  CL0  \n",
      "5        CL0       CL0    CL0  CL0  CL0       CL0      CL0   CL0  CL0  \n",
      "6        CL0       CL0    CL0  CL0  CL0       CL0      CL1   CL0  CL0  \n",
      "7        CL0       CL0    CL4  CL3  CL3       CL3      CL6   CL0  CL0  \n",
      "8        CL0       CL0    CL0  CL0  CL0       CL0      CL0   CL0  CL0  \n",
      "9        CL0       CL0    CL0  CL0  CL0       CL0      CL0   CL0  CL0  \n",
      "10       CL0       CL1    CL0  CL1  CL0       CL1      CL1   CL0  CL0  \n",
      "11       CL0       CL0    CL0  CL0  CL0       CL0      CL0   CL0  CL0  \n",
      "12       CL0       CL0    CL0  CL0  CL0       CL0      CL0   CL0  CL0  \n",
      "13       CL0       CL4    CL3  CL6  CL0       CL3      CL6   CL0  CL6  \n",
      "14       CL0       CL0    CL4  CL0  CL2       CL3      CL3   CL0  CL2  \n",
      "15       CL0       CL0    CL0  CL0  CL0       CL0      CL0   CL0  CL0  \n",
      "16       CL0       CL0    CL3  CL0  CL0       CL0      CL6   CL0  CL0  \n",
      "17       CL0       CL2    CL2  CL0  CL0       CL0      CL0   CL0  CL0  \n",
      "18       CL0       CL0    CL2  CL3  CL0       CL0      CL5   CL0  CL0  \n",
      "19       CL0       CL0    CL0  CL0  CL0       CL0      CL0   CL0  CL0  \n",
      "20       CL0       CL0    CL0  CL0  CL0       CL3      CL3   CL0  CL0  \n",
      "21       CL0       CL0    CL0  CL0  CL0       CL0      CL6   CL0  CL0  \n",
      "22       CL0       CL0    CL4  CL0  CL0       CL0      CL4   CL0  CL0  \n",
      "23       CL0       CL0    CL0  CL0  CL0       CL0      CL0   CL0  CL0  \n",
      "24       CL0       CL0    CL0  CL0  CL0       CL0      CL0   CL0  CL0  \n",
      "25       CL0       CL2    CL6  CL0  CL0       CL0      CL2   CL0  CL0  \n",
      "26       CL0       CL0    CL0  CL0  CL0       CL0      CL6   CL0  CL0  \n",
      "27       CL0       CL0    CL1  CL1  CL0       CL0      CL1   CL0  CL0  \n",
      "28       CL0       CL0    CL0  CL0  CL0       CL0      CL0   CL0  CL0  \n",
      "29       CL0       CL3    CL0  CL0  CL0       CL0      CL6   CL0  CL2  \n",
      "...      ...       ...    ...  ...  ...       ...      ...   ...  ...  \n",
      "1855     CL0       CL0    CL3  CL5  CL0       CL0      CL3   CL0  CL0  \n",
      "1856     CL0       CL0    CL0  CL3  CL2       CL3      CL4   CL0  CL0  \n",
      "1857     CL0       CL0    CL0  CL1  CL0       CL1      CL6   CL0  CL0  \n",
      "1858     CL0       CL2    CL3  CL0  CL0       CL0      CL5   CL0  CL0  \n",
      "1859     CL0       CL0    CL0  CL0  CL0       CL0      CL0   CL0  CL0  \n",
      "1860     CL0       CL0    CL0  CL0  CL0       CL0      CL5   CL0  CL0  \n",
      "1861     CL0       CL0    CL0  CL0  CL0       CL0      CL3   CL0  CL0  \n",
      "1862     CL0       CL0    CL0  CL3  CL0       CL0      CL6   CL0  CL2  \n",
      "1863     CL0       CL0    CL0  CL1  CL0       CL1      CL2   CL0  CL0  \n",
      "1864     CL0       CL0    CL3  CL3  CL0       CL3      CL3   CL0  CL0  \n",
      "1865     CL0       CL4    CL3  CL0  CL0       CL0      CL6   CL0  CL0  \n",
      "1866     CL0       CL0    CL0  CL0  CL0       CL0      CL1   CL0  CL0  \n",
      "1867     CL0       CL0    CL0  CL0  CL0       CL1      CL1   CL0  CL0  \n",
      "1868     CL0       CL0    CL3  CL3  CL0       CL3      CL6   CL0  CL0  \n",
      "1869     CL0       CL0    CL0  CL1  CL0       CL1      CL6   CL0  CL0  \n",
      "1870     CL0       CL0    CL0  CL0  CL0       CL0      CL1   CL0  CL0  \n",
      "1871     CL0       CL0    CL0  CL1  CL0       CL1      CL6   CL0  CL0  \n",
      "1872     CL0       CL0    CL0  CL0  CL0       CL1      CL0   CL0  CL1  \n",
      "1873     CL0       CL0    CL6  CL4  CL0       CL4      CL6   CL0  CL0  \n",
      "1874     CL0       CL0    CL0  CL0  CL0       CL0      CL2   CL0  CL0  \n",
      "1875     CL1       CL0    CL4  CL1  CL0       CL1      CL0   CL0  CL0  \n",
      "1876     CL0       CL0    CL0  CL0  CL0       CL1      CL6   CL0  CL1  \n",
      "1877     CL0       CL0    CL0  CL0  CL6       CL0      CL0   CL0  CL0  \n",
      "1878     CL0       CL0    CL0  CL0  CL0       CL0      CL5   CL0  CL0  \n",
      "1879     CL4       CL0    CL6  CL2  CL0       CL2      CL6   CL0  CL0  \n",
      "1880     CL0       CL2    CL0  CL1  CL2       CL2      CL2   CL0  CL0  \n",
      "1881     CL0       CL0    CL0  CL0  CL0       CL3      CL4   CL0  CL2  \n",
      "1882     CL1       CL2    CL0  CL1  CL0       CL2      CL5   CL0  CL0  \n",
      "1883     CL0       CL0    CL0  CL0  CL0       CL0      CL2   CL0  CL0  \n",
      "1884     CL0       CL0    CL0  CL0  CL0       CL0      CL0   CL0  CL0  \n",
      "\n",
      "[1885 rows x 32 columns]\n"
     ]
    }
   ],
   "source": [
    "data = data.sample(frac=1).reset_index(drop=True)\n",
    "print(data)"
   ]
  },
  {
   "cell_type": "code",
   "execution_count": 257,
   "metadata": {},
   "outputs": [
    {
     "name": "stdout",
     "output_type": "stream",
     "text": [
      "Train data: 1696 \n",
      "Test data: 189\n",
      ">> Accuracy: 80.95238095238095\n"
     ]
    }
   ],
   "source": [
    "train_data = int(data_len*.90)\n",
    "test_data = data_len - train_data\n",
    "\n",
    "print(\"Train data:\", train_data, \"\\nTest data:\", test_data)\n",
    "\n",
    "correct_res = 0\n",
    "\n",
    "for person in range(train_data, data_len):\n",
    "    lol = dict()\n",
    "    lol[\"Age\"] = data[\"Age\"][person]\n",
    "    lol[\"Gender\"] = data[\"Gender\"][person]\n",
    "    lol[\"Education\"] = data[\"Education\"][person]\n",
    "    lol[\"Country\"] = data[\"Country\"][person]\n",
    "    \n",
    "    if(isAddict(person) and probability_of_getting_addicted(lol, d_len = train_data)>50):\n",
    "        correct_res = correct_res + 1\n",
    "    elif(not isAddict(person) and probability_of_getting_addicted(lol, d_len = train_data)<=50):\n",
    "        correct_res = correct_res + 1\n",
    "\n",
    "print(\">> Accuracy:\", correct_res*100/test_data)"
   ]
  },
  {
   "cell_type": "code",
   "execution_count": null,
   "metadata": {},
   "outputs": [],
   "source": []
  }
 ],
 "metadata": {
  "kernelspec": {
   "display_name": "Python 3",
   "language": "python",
   "name": "python3"
  },
  "language_info": {
   "codemirror_mode": {
    "name": "ipython",
    "version": 3
   },
   "file_extension": ".py",
   "mimetype": "text/x-python",
   "name": "python",
   "nbconvert_exporter": "python",
   "pygments_lexer": "ipython3",
   "version": "3.7.3"
  }
 },
 "nbformat": 4,
 "nbformat_minor": 2
}
